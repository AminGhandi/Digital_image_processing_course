{
 "cells": [
  {
   "cell_type": "markdown",
   "id": "85424873",
   "metadata": {},
   "source": [
    "There are several psychovisual redundancy reduction techniques that can be applied to images for compression purposes. Here are a few commonly used techniques:\n",
    "\n",
    "Color Subsampling: This technique reduces the redundancy in color information by subsampling the chrominance channels compared to the luminance channel. It takes advantage of the human visual system's higher sensitivity to changes in brightness than changes in color. The most common color subsampling formats are YCbCr and YUV.\n",
    "\n",
    "Quantization: Quantization is the process of reducing the precision of pixel values. It maps each pixel value to a smaller set of values, thereby reducing the overall bit-depth of the image. This technique exploits the limited ability of the human eye to perceive fine differences in color or intensity.\n",
    "\n",
    "Transform Coding: Transform coding involves converting the image from the spatial domain to a different domain using techniques like Discrete Cosine Transform (DCT) or Wavelet Transform. By representing the image in a more compact form, it becomes easier to eliminate high-frequency components with less impact on perceived quality.\n",
    "\n",
    "Perceptual Hashing: Perceptual hashing algorithms aim to generate unique hash codes for images based on their visual content. These techniques exploit the visual similarity between images to identify redundant or similar regions. Similar regions can be encoded and transmitted/recalled in a compressed form, reducing redundancy.\n",
    "\n",
    "Region of Interest (ROI) Encoding: If there are specific regions of interest in an image, such as objects or important details, focusing the compression efforts on those regions while reducing the quality or resolution in non-essential areas can optimize compression efficiency.\n",
    "\n"
   ]
  },
  {
   "cell_type": "markdown",
   "id": "2c7a7b2c",
   "metadata": {},
   "source": [
    "Color Subsampling (using OpenCV):"
   ]
  },
  {
   "cell_type": "code",
   "execution_count": 10,
   "id": "b924ffbb",
   "metadata": {},
   "outputs": [
    {
     "name": "stdout",
     "output_type": "stream",
     "text": [
      "color_subsampling:\n",
      "Compression Rate: 1.68\n"
     ]
    }
   ],
   "source": [
    "import matplotlib.pyplot as plt\n",
    "import cv2\n",
    "import numpy as np\n",
    "from PIL import Image\n",
    "import io\n",
    "import os\n",
    "\n",
    "def color_subsampling(image_path):\n",
    "    # Load the image using OpenCV\n",
    "    image = cv2.imread(image_path)\n",
    "    \n",
    "    # Convert the image to YCbCr color space\n",
    "    ycbcr_image = cv2.cvtColor(image, cv2.COLOR_BGR2YCrCb)\n",
    "    \n",
    "    # Apply color subsampling by reducing chrominance channels\n",
    "    y_channel, cr_channel, cb_channel = cv2.split(ycbcr_image)\n",
    "    \n",
    "    # Perform subsampling on chrominance channels\n",
    "    cr_channel_subsampled = cv2.resize(cr_channel, None, fx=0.5, fy=0.5, interpolation=cv2.INTER_LINEAR)\n",
    "    cb_channel_subsampled = cv2.resize(cb_channel, None, fx=0.5, fy=0.5, interpolation=cv2.INTER_LINEAR)\n",
    "    \n",
    "    # Check if the subsampled channels have the same size and depth as the luminance channel\n",
    "    if cr_channel_subsampled.shape != y_channel.shape:\n",
    "        cr_channel_subsampled = cv2.resize(cr_channel_subsampled, y_channel.shape[::-1])\n",
    "    if cb_channel_subsampled.shape != y_channel.shape:\n",
    "        cb_channel_subsampled = cv2.resize(cb_channel_subsampled, y_channel.shape[::-1])\n",
    "    \n",
    "    # Merge the subsampled channels with the luminance channel\n",
    "    ycbcr_subsampled = cv2.merge([y_channel, cr_channel_subsampled, cb_channel_subsampled])\n",
    "    \n",
    "    # Convert back to BGR color space\n",
    "    bgr_subsampled = cv2.cvtColor(ycbcr_subsampled, cv2.COLOR_YCrCb2BGR)\n",
    "    \n",
    "    return bgr_subsampled\n",
    "\n",
    "\n",
    "\n",
    "def compress_image(image_path, quality=80):\n",
    "\n",
    "    \n",
    "    # Convert PIL image to numpy array\n",
    "#     np_image = np.array(pil_image)\n",
    "    \n",
    "    # Apply psychovisual redundancy reduction techniques .\n",
    "    processed = color_subsampling(image_path)\n",
    "    \n",
    "    # Convert the numpy array back to PIL image\n",
    "    processed_image = Image.fromarray(processed)\n",
    "    \n",
    "    # Create a BytesIO object to hold the compressed image data\n",
    "    compressed_image_data = io.BytesIO()\n",
    "    \n",
    "    # Save the processed image with desired compression quality\n",
    "    processed_image.save(compressed_image_data, format='PNG', quality=quality)\n",
    "    \n",
    "    # Get the compressed image data as bytes\n",
    "    compressed_image_bytes = compressed_image_data.getvalue()\n",
    "    \n",
    "\n",
    "    \n",
    "    return compressed_image_bytes \n",
    "\n",
    "# Example usage\n",
    "image_path='q5-4.png'\n",
    "compressed_image = compress_image(image_path)\n",
    "\n",
    "# Save the compressed image to a file\n",
    "with open(f'{image_path}_compressed_color_subsampling.png', 'wb') as f:\n",
    "    f.write(compressed_image)\n",
    "\n",
    "print('color_subsampling:')\n",
    "# Get the file size in bytes\n",
    "original_size = os.path.getsize(image_path)\n",
    "compressed_size = os.path.getsize(f'{image_path}_compressed_color_subsampling.png')\n",
    "\n",
    "# Calculate the compression rate\n",
    "compression_rate = compressed_size / original_size\n",
    "\n",
    "print(f\"Compression Rate: {compression_rate:.2f}\")\n"
   ]
  },
  {
   "cell_type": "markdown",
   "id": "be232a35",
   "metadata": {},
   "source": [
    "Quantization:\n"
   ]
  },
  {
   "cell_type": "code",
   "execution_count": 8,
   "id": "b3ced54b",
   "metadata": {},
   "outputs": [
    {
     "name": "stdout",
     "output_type": "stream",
     "text": [
      "quantize_image:\n",
      "Compression Rate: 0.50\n"
     ]
    }
   ],
   "source": [
    "\n",
    "def quantize_image(image_path, levels):\n",
    "    # Load the image using PIL\n",
    "    pil_image = Image.open(image_path)\n",
    "    \n",
    "    # Convert PIL image to numpy array\n",
    "    np_image = np.array(pil_image)\n",
    "    \n",
    "    # Quantize the image by reducing bit-depth\n",
    "    quantized_image = np.floor_divide(np_image, 256 // levels) * (256 // levels)\n",
    "    \n",
    "    # Convert the numpy array back to PIL image\n",
    "    quantized_pil_image = Image.fromarray(quantized_image.astype('uint8'))\n",
    "    \n",
    "    return quantized_pil_image\n",
    "\n",
    "\n",
    "def compress_image(image_path, quality=80):\n",
    "\n",
    "    \n",
    "    # Apply psychovisual redundancy reduction techniques .\n",
    "    processed_image = quantize_image(image_path , 10)\n",
    "    \n",
    "    # Create a BytesIO object to hold the compressed image data\n",
    "    compressed_image_data = io.BytesIO()\n",
    "    # Save the processed image with desired compression quality\n",
    "    processed_image.save(compressed_image_data, format='PNG', quality=quality)\n",
    "    \n",
    "    # Get the compressed image data as bytes\n",
    "    compressed_image_bytes = compressed_image_data.getvalue()\n",
    "    \n",
    "\n",
    "    \n",
    "    return compressed_image_bytes\n",
    "\n",
    "\n",
    "\n",
    "image_path='q5-4.png'\n",
    "compressed_image  = compress_image(image_path,80)\n",
    "\n",
    "# Save the compressed image to a file\n",
    "with open(f'{image_path}_compressed_quantize_image.png', 'wb') as f:\n",
    "    f.write(compressed_image)\n",
    "\n",
    "print('quantize_image:')\n",
    "# Get the file size in bytes\n",
    "original_size = os.path.getsize(image_path)\n",
    "compressed_size = os.path.getsize(f'{image_path}_compressed_quantize_image.png')\n",
    "\n",
    "# Calculate the compression rate\n",
    "compression_rate = compressed_size / original_size\n",
    "\n",
    "print(f\"Compression Rate: {compression_rate:.2f}\")\n"
   ]
  },
  {
   "cell_type": "markdown",
   "id": "464da32a",
   "metadata": {},
   "source": [
    "Transform Coding (using OpenCV's DCT):"
   ]
  },
  {
   "cell_type": "code",
   "execution_count": 9,
   "id": "3d08b534",
   "metadata": {},
   "outputs": [
    {
     "name": "stdout",
     "output_type": "stream",
     "text": [
      "transform_coding:\n",
      "Compression Rate: 0.56\n"
     ]
    }
   ],
   "source": [
    "import os\n",
    "def transform_coding(image_path, truncation_ratio):\n",
    "    # Load the image using OpenCV\n",
    "    image = cv2.imread(image_path, cv2.IMREAD_GRAYSCALE)\n",
    "    \n",
    "    # Apply Discrete Cosine Transform (DCT) on the image\n",
    "    dct_image = cv2.dct(np.float32(image))\n",
    "    \n",
    "    # Flatten the DCT coefficients array\n",
    "    flattened_dct = dct_image.flatten()\n",
    "    \n",
    "    # Sort the coefficients in descending order\n",
    "    sorted_dct = np.abs(flattened_dct)\n",
    "    sorted_indices = np.argsort(sorted_dct)[::-1]\n",
    "    \n",
    "    # Calculate the index for truncation\n",
    "    total_coefficients = len(sorted_dct)\n",
    "    truncation_index = round(truncation_ratio * total_coefficients)\n",
    "    \n",
    "    # Truncate the coefficients\n",
    "    sorted_dct[sorted_indices[truncation_index:]] = 0\n",
    "    \n",
    "    # Reshape the flattened DCT coefficients array\n",
    "    truncated_dct = sorted_dct.reshape(dct_image.shape)\n",
    "    \n",
    "    return truncated_dct\n",
    "\n",
    "image_path='q5-4.png'\n",
    "compressed_image = transform_coding(image_path , 0.5)\n",
    "\n",
    "# Save the compressed image to a file\n",
    "cv2.imwrite(f'{image_path}_compressed_transform_coding.png', compressed_image)\n",
    "\n",
    "\n",
    "\n",
    "\n",
    "\n",
    "print('transform_coding:')\n",
    "# Get the file size in bytes\n",
    "original_size = os.path.getsize(image_path)\n",
    "compressed_size = os.path.getsize(f'{image_path}_compressed_transform_coding.png')\n",
    "\n",
    "# Calculate the compression rate\n",
    "compression_rate = compressed_size / original_size\n",
    "\n",
    "print(f\"Compression Rate: {compression_rate:.2f}\")\n"
   ]
  },
  {
   "cell_type": "code",
   "execution_count": null,
   "id": "d4043dd0",
   "metadata": {},
   "outputs": [],
   "source": []
  },
  {
   "cell_type": "code",
   "execution_count": null,
   "id": "152acfd6",
   "metadata": {},
   "outputs": [],
   "source": []
  }
 ],
 "metadata": {
  "kernelspec": {
   "display_name": "Python 3 (ipykernel)",
   "language": "python",
   "name": "python3"
  },
  "language_info": {
   "codemirror_mode": {
    "name": "ipython",
    "version": 3
   },
   "file_extension": ".py",
   "mimetype": "text/x-python",
   "name": "python",
   "nbconvert_exporter": "python",
   "pygments_lexer": "ipython3",
   "version": "3.9.16"
  }
 },
 "nbformat": 4,
 "nbformat_minor": 5
}
