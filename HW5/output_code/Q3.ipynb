{
 "cells": [
  {
   "cell_type": "code",
   "execution_count": 2,
   "id": "f41b2f4d",
   "metadata": {},
   "outputs": [],
   "source": [
    "import numpy as np\n",
    "from PIL import Image\n",
    "from scipy.fftpack import dct, idct\n",
    "import os\n",
    "\n",
    "def pad_image(image, block_size):\n",
    "    width, height = image.size\n",
    "    \n",
    "    # Calculate the number of blocks in each dimension\n",
    "    num_blocks_x = width // block_size\n",
    "    num_blocks_y = height // block_size\n",
    "    \n",
    "    # Calculate the padded dimensions\n",
    "    padded_width = (num_blocks_x + 1) * block_size\n",
    "    padded_height = (num_blocks_y + 1) * block_size\n",
    "    \n",
    "    # Create a new blank image with the padded dimensions\n",
    "    padded_image = Image.new('L', (padded_width, padded_height))\n",
    "    \n",
    "    # Paste the original image onto the padded image\n",
    "    padded_image.paste(image, (0, 0))\n",
    "    \n",
    "    return padded_image\n",
    "\n",
    "\n",
    "def calculate_compression_ratio(original_size, compressed_size):\n",
    "    compression_ratio = original_size / compressed_size\n",
    "    return compression_ratio"
   ]
  },
  {
   "cell_type": "code",
   "execution_count": 3,
   "id": "de2fbe29",
   "metadata": {},
   "outputs": [],
   "source": [
    "\n",
    "\n",
    "def compress_image(image_path, block_size, target_rmse, truncation_percentage):\n",
    "    # Load the image and convert it to grayscale\n",
    "    image = Image.open(image_path).convert('L')\n",
    "\n",
    "    # Pad the image to match the block size\n",
    "    padded_image = pad_image(image, block_size)\n",
    "\n",
    "    # Get the padded image dimensions\n",
    "    width, height = padded_image.size\n",
    "\n",
    "    # Calculate the number of blocks in each dimension\n",
    "    num_blocks_x = width // block_size\n",
    "    num_blocks_y = height // block_size\n",
    "\n",
    "    # Initialize an array to store the compressed image\n",
    "    compressed_image = np.zeros((height, width))\n",
    "\n",
    "    # Iterate over each block in the image\n",
    "    for y in range(num_blocks_y):\n",
    "        for x in range(num_blocks_x):\n",
    "            # Extract the current block from the image\n",
    "            block = padded_image.crop((x * block_size, y * block_size,\n",
    "                                (x + 1) * block_size, (y + 1) * block_size))\n",
    "\n",
    "            # Convert the block to a NumPy array and apply DCT\n",
    "            block_arr = np.array(block, dtype=np.float32)\n",
    "            dct_coefficients = dct(dct(block_arr.T, norm='ortho').T, norm='ortho')\n",
    "\n",
    "            # Calculate the number of coefficients to keep based on truncation percentage\n",
    "            num_coeffs = int((100 - truncation_percentage) / 100 * block_size**2)\n",
    "\n",
    "            # Sort the coefficients in descending order of magnitude\n",
    "            sorted_coeffs = np.abs(dct_coefficients).ravel()\n",
    "            sorted_coeffs.sort()\n",
    "\n",
    "            # Determine the threshold value\n",
    "            threshold = sorted_coeffs[-num_coeffs]\n",
    "\n",
    "            # Discard high-frequency coefficients by applying truncation\n",
    "            dct_coefficients[np.abs(dct_coefficients) < threshold] = 0\n",
    "\n",
    "            # Reconstruct the block by applying inverse DCT\n",
    "            reconstructed_block = idct(idct(dct_coefficients.T, norm='ortho').T, norm='ortho')\n",
    "\n",
    "            # Store the reconstructed block in the compressed image\n",
    "            compressed_image[y * block_size:(y + 1) * block_size, x * block_size:(x + 1) * block_size] = reconstructed_block\n",
    "\n",
    "    # Calculate the RMSE between the original and compressed images\n",
    "    original_image_arr = np.array(padded_image, dtype=np.float32)\n",
    "    compressed_image_arr = compressed_image[:height, :width]\n",
    "    rmse = np.sqrt(np.mean((original_image_arr - compressed_image_arr) ** 2))\n",
    "\n",
    "    # Check if the RMSE is below the target threshold\n",
    "    if rmse > target_rmse:\n",
    "        print(f\"Compression failed. RMSE: {rmse:.2f}\")\n",
    "    else:\n",
    "        print(f\"Compression successful. RMSE: {rmse:.2f}\")\n",
    "\n",
    "        # Save the compressed image\n",
    "        compressed_image = Image.fromarray(compressed_image_arr.astype(np.uint8))\n",
    "        compressed_image.save(\"compressed_image.jpg\")\n",
    "\n",
    "        \n",
    "        compressed_file_size = os.stat(\"compressed_image.jpg\").st_size\n",
    "        original_file_size = os.stat(image_path).st_size\n",
    "        ratio = calculate_compression_ratio(original_file_size, compressed_file_size)\n",
    "        print(f\"Compression Ratio: {ratio:.2f}\")"
   ]
  },
  {
   "cell_type": "code",
   "execution_count": 5,
   "id": "da0327ca",
   "metadata": {},
   "outputs": [
    {
     "name": "stdout",
     "output_type": "stream",
     "text": [
      "Compression successful. RMSE: 0.38\n",
      "Compression Ratio: 4.44\n"
     ]
    }
   ],
   "source": [
    "# test usage\n",
    "compress_image(\"q3.jpg\", block_size=64, target_rmse=1.0, truncation_percentage=10)\n"
   ]
  },
  {
   "cell_type": "code",
   "execution_count": null,
   "id": "b438b235",
   "metadata": {},
   "outputs": [],
   "source": []
  }
 ],
 "metadata": {
  "kernelspec": {
   "display_name": "Python 3 (ipykernel)",
   "language": "python",
   "name": "python3"
  },
  "language_info": {
   "codemirror_mode": {
    "name": "ipython",
    "version": 3
   },
   "file_extension": ".py",
   "mimetype": "text/x-python",
   "name": "python",
   "nbconvert_exporter": "python",
   "pygments_lexer": "ipython3",
   "version": "3.9.16"
  }
 },
 "nbformat": 4,
 "nbformat_minor": 5
}
