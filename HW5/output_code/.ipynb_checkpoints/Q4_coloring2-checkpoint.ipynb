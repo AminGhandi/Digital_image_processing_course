{
 "cells": [
  {
   "cell_type": "code",
   "execution_count": 1,
   "id": "93267664",
   "metadata": {},
   "outputs": [],
   "source": [
    "import matplotlib.pyplot as plt\n",
    "import cv2\n",
    "import numpy as np\n",
    "\n",
    "kernel = [[0,1,0], [1,1,1],[0,1,0]]\n",
    "kernel = np.array(kernel, np.uint8)\n"
   ]
  },
  {
   "cell_type": "code",
   "execution_count": 2,
   "id": "f068bafd",
   "metadata": {},
   "outputs": [
    {
     "data": {
      "text/plain": [
       "True"
      ]
     },
     "execution_count": 2,
     "metadata": {},
     "output_type": "execute_result"
    }
   ],
   "source": [
    "\n",
    "# Step 2: Load the image\n",
    "image = cv2.imread(\"coloring2.jpg\")\n",
    "\n",
    "# Step 3: Convert the image to HSV color space\n",
    "hsv_image = cv2.cvtColor(image, cv2.COLOR_BGR2HSV)\n",
    "\n",
    "# Step 4: Define lower and upper bounds for black and gray colors in HSV\n",
    "lower_gray = np.array([0, 0, 0], dtype=np.uint8)\n",
    "upper_gray = np.array([180, 255, 130], dtype=np.uint8)\n",
    "\n",
    "# Step 5: Create a mask by applying range on the HSV image\n",
    "mask = cv2.inRange(hsv_image, lower_gray, upper_gray)\n",
    "\n",
    "# Step 6: Apply the mask to the original image using bitwise AND operation\n",
    "result = cv2.bitwise_and(image, image, mask=mask)\n",
    "result[result!=0]=10\n",
    "result[result==0]=255\n",
    "result[result==10]=0\n",
    "\n",
    "grayscale_image = cv2.cvtColor(result, cv2.COLOR_BGR2GRAY)\n",
    "_, binary_image = cv2.threshold(grayscale_image, 200, 255, cv2.THRESH_BINARY)\n",
    "\n",
    "\n",
    "\n",
    "\n",
    "\n",
    "binary_image = cv2.erode(binary_image, kernel, iterations=5)\n",
    "\n",
    "\n",
    "# cv2.imshow('Result', binary_image)\n",
    "# cv2.waitKey(0)\n",
    "# cv2.destroyAllWindows()\n",
    "cv2.imwrite(\"boundry2.jpg\", binary_image)\n"
   ]
  },
  {
   "cell_type": "code",
   "execution_count": 3,
   "id": "1f3c55f2",
   "metadata": {},
   "outputs": [],
   "source": [
    "\n",
    "# Load the image\n",
    "image = cv2.imread(\"boundry2.jpg\")\n",
    "\n",
    "# Convert the image to grayscale\n",
    "gray = cv2.cvtColor(image, cv2.COLOR_BGR2GRAY)\n",
    "\n",
    "# Apply a threshold to obtain a binary image\n",
    "_, thresh = cv2.threshold(gray, 240, 255, cv2.THRESH_BINARY)\n",
    "thresh = cv2.bitwise_not(thresh)\n",
    "\n",
    "# Find contours in the binary image\n",
    "contours, _ = cv2.findContours(thresh, cv2.RETR_EXTERNAL, cv2.CHAIN_APPROX_SIMPLE)\n",
    "\n",
    "# Create a copy of the original image to draw contours on\n",
    "contour_image = image.copy()\n",
    "\n",
    "# Draw contours on the image\n",
    "cv2.drawContours(contour_image, contours, -1, (0, 0, 255), 1)  # Use red color with thickness 2\n",
    "\n",
    "cv2.imshow('Result', contour_image)\n",
    "cv2.waitKey(0)\n",
    "cv2.destroyAllWindows()"
   ]
  },
  {
   "cell_type": "code",
   "execution_count": 4,
   "id": "5e938b75",
   "metadata": {},
   "outputs": [],
   "source": [
    "\n",
    "# Load the boundary image\n",
    "boundary_gray = cv2.imread(\"boundry2.jpg\",0)\n",
    "\n",
    "# Create a copy of the boundary image for drawing filled boundary\n",
    "filled_boundary_image = boundary_gray.copy()\n",
    "\n",
    "# Convert the boundary image to grayscale\n",
    "# boundary_gray = cv2.cvtColor(boundary_image, cv2.COLOR_BGR2GRAY)\n",
    "\n",
    "# Threshold the grayscale boundary image to obtain a binary mask\n",
    "_, binary_mask = cv2.threshold(boundary_gray, 240, 255, cv2.THRESH_BINARY)\n",
    "binary_mask = cv2.bitwise_not(binary_mask)\n",
    "# Find contours in the binary mask\n",
    "contours, _ = cv2.findContours(binary_mask, cv2.RETR_EXTERNAL, cv2.CHAIN_APPROX_SIMPLE)\n",
    "\n",
    "# Fill the boundary with a color\n",
    "cv2.fillPoly(filled_boundary_image, contours, (0, 0, 255))\n",
    "\n",
    "# filled_boundary_image = cv2.erode(filled_boundary_image, kernel, iterations=2)\n",
    "filled_boundary_image = cv2.dilate(filled_boundary_image, kernel, iterations=5)\n",
    "\n",
    "# # Display the filled boundary image\n",
    "# cv2.imshow(\"Filled Boundary\", filled_boundary_image)\n",
    "# cv2.waitKey(0)\n",
    "# cv2.destroyAllWindows()\n"
   ]
  },
  {
   "cell_type": "code",
   "execution_count": 5,
   "id": "b7847fd4",
   "metadata": {},
   "outputs": [
    {
     "data": {
      "text/plain": [
       "True"
      ]
     },
     "execution_count": 5,
     "metadata": {},
     "output_type": "execute_result"
    }
   ],
   "source": [
    "\n",
    "# Step 2: Load the image\n",
    "image = cv2.imread(\"coloring2.jpg\")\n",
    "\n",
    "# Step 3: Convert the image to HSV color space\n",
    "hsv_image = cv2.cvtColor(image, cv2.COLOR_BGR2HSV)\n",
    "\n",
    "# Step 4: Define lower and upper bounds for black and gray colors in HSV\n",
    "lower_gray = np.array([0, 0, 0], dtype=np.uint8)\n",
    "upper_gray = np.array([180, 255, 130], dtype=np.uint8)\n",
    "\n",
    "# Step 5: Create a mask by applying range on the HSV image\n",
    "mask = cv2.inRange(hsv_image, lower_gray, upper_gray)\n",
    "\n",
    "# Step 6: Apply the mask to the original image using bitwise AND operation\n",
    "result = cv2.bitwise_and(image, image, mask=mask)\n",
    "result[result!=0]=10\n",
    "result[result==0]=255\n",
    "result[result==10]=0\n",
    "\n",
    "grayscale_image = cv2.cvtColor(result, cv2.COLOR_BGR2GRAY)\n",
    "_, binary_image = cv2.threshold(grayscale_image, 200, 255, cv2.THRESH_BINARY)\n",
    "binary_image = cv2.erode(binary_image, kernel, iterations=3)\n",
    "\n",
    "cv2.imwrite(\"boundry.jpg\", binary_image)\n"
   ]
  },
  {
   "cell_type": "code",
   "execution_count": 6,
   "id": "5ed53b71",
   "metadata": {},
   "outputs": [],
   "source": [
    "\n",
    "kernel = [[0,1,0], [1,1,1],[0,1,0]]\n",
    "kernel = np.array(kernel, np.uint8)\n",
    "\n",
    "image = cv2.imread(\"coloring2.jpg\",cv2.COLOR_BGR2RGB)\n",
    "\n",
    "# Convert the image to grayscale\n",
    "gray = cv2.cvtColor(image, cv2.COLOR_BGR2GRAY)\n",
    "\n",
    "# Threshold the grayscale image to obtain a binary image\n",
    "_, binary = cv2.threshold(gray, 50, 255, cv2.THRESH_BINARY)\n",
    "\n",
    "\n",
    "# Invert the binary image\n",
    "binary = cv2.bitwise_not(binary)\n",
    "\n",
    "binary = cv2.dilate(binary, kernel, iterations=3)\n",
    "image[binary > 0]=255\n",
    "cv2.imwrite(\"color_seeds.jpg\", image)\n",
    "\n",
    "\n",
    "# Read the image\n",
    "img = cv2.imread(\"color_seeds.jpg\")\n",
    "thr=110\n",
    "# Create a grayscale mask based on intensity differences\n",
    "gray_mask = np.max(img, axis=2) - np.min(img, axis=2)\n",
    "gray_mask[gray_mask < thr] = 0\n",
    "gray_mask[gray_mask >= thr] = 255\n",
    "\n",
    "# Apply the grayscale mask to the image\n",
    "result = cv2.bitwise_and(img, img, mask=gray_mask)\n",
    "seeds = cv2.dilate(result, kernel, iterations=1)\n",
    "\n"
   ]
  },
  {
   "cell_type": "code",
   "execution_count": 7,
   "id": "f98a9ab9",
   "metadata": {},
   "outputs": [],
   "source": [
    "kernel = np.ones((3, 3), np.uint8)\n",
    "\n",
    "boundry = cv2.imread(\"boundry.jpg\",cv2.COLOR_BGR2RGB)\n",
    "boundry = np.repeat(boundry[:, :, np.newaxis], 3, axis=2)\n",
    "\n",
    "for i in range(60):\n",
    "    seeds = cv2.dilate(seeds, kernel, iterations=1)\n",
    "    seeds = cv2.bitwise_and(seeds, boundry)\n",
    "\n",
    "\n",
    "seeds[filled_boundary_image>150]=255\n",
    "seeds[seeds<10]=255\n",
    "seeds[boundry<200]=0\n"
   ]
  },
  {
   "cell_type": "code",
   "execution_count": 8,
   "id": "f5af00cc",
   "metadata": {},
   "outputs": [],
   "source": [
    "\n",
    "\n",
    "# Step 2: Load the image\n",
    "image = cv2.imread(\"coloring2.jpg\")\n",
    "\n",
    "# Step 3: Convert the image to HSV color space\n",
    "hsv_image = cv2.cvtColor(image, cv2.COLOR_BGR2HSV)\n",
    "\n",
    "# Step 4: Define lower and upper bounds for black and gray colors in HSV\n",
    "lower_gray = np.array([0, 0, 0], dtype=np.uint8)\n",
    "upper_gray = np.array([180, 255, 130], dtype=np.uint8)\n",
    "\n",
    "# Step 5: Create a mask by applying range on the HSV image\n",
    "mask = cv2.inRange(hsv_image, lower_gray, upper_gray)\n",
    "\n",
    "# Step 6: Apply the mask to the original image using bitwise AND operation\n",
    "result = cv2.bitwise_and(image, image, mask=mask)\n",
    "result[result!=0]=10\n",
    "result[result==0]=255\n",
    "result[result==10]=0\n",
    "\n",
    "grayscale_image = cv2.cvtColor(result, cv2.COLOR_BGR2GRAY)\n",
    "_, binary_image = cv2.threshold(grayscale_image, 200, 255, cv2.THRESH_BINARY)\n",
    "binary_image = cv2.erode(binary_image, kernel, iterations=1)\n",
    "binary_image = cv2.dilate(binary_image, kernel, iterations=1)\n",
    "\n",
    "\n",
    "\n",
    "\n"
   ]
  },
  {
   "cell_type": "code",
   "execution_count": 9,
   "id": "3ac7835e",
   "metadata": {},
   "outputs": [
    {
     "data": {
      "text/plain": [
       "True"
      ]
     },
     "execution_count": 9,
     "metadata": {},
     "output_type": "execute_result"
    }
   ],
   "source": [
    "binary_image = np.repeat(binary_image[:, :, np.newaxis], 3, axis=2)\n",
    "kernel = [[0,1,0], [1,1,1],[0,1,0]]\n",
    "kernel = np.array(kernel, np.uint8)\n",
    "\n",
    "for i in range(12):\n",
    "    seeds = cv2.dilate(seeds, kernel, iterations=1)\n",
    "    seeds = cv2.bitwise_and(seeds, binary_image)\n",
    "    \n",
    "seeds[seeds<10]=255\n",
    "seeds[binary_image<200]=0\n",
    "\n",
    "cv2.imwrite(\"coloring2_finall.jpg\", seeds)\n"
   ]
  },
  {
   "cell_type": "code",
   "execution_count": null,
   "id": "5b55c48d",
   "metadata": {},
   "outputs": [],
   "source": []
  },
  {
   "cell_type": "code",
   "execution_count": null,
   "id": "8b41e2ca",
   "metadata": {},
   "outputs": [],
   "source": []
  }
 ],
 "metadata": {
  "kernelspec": {
   "display_name": "Python 3 (ipykernel)",
   "language": "python",
   "name": "python3"
  },
  "language_info": {
   "codemirror_mode": {
    "name": "ipython",
    "version": 3
   },
   "file_extension": ".py",
   "mimetype": "text/x-python",
   "name": "python",
   "nbconvert_exporter": "python",
   "pygments_lexer": "ipython3",
   "version": "3.9.16"
  }
 },
 "nbformat": 4,
 "nbformat_minor": 5
}
