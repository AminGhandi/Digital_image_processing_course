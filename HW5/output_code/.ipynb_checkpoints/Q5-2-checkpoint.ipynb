{
 "cells": [
  {
   "cell_type": "code",
   "execution_count": 4,
   "id": "1b8d9268",
   "metadata": {},
   "outputs": [],
   "source": [
    "from PIL import Image\n",
    "import numpy as np\n",
    "import imageio\n",
    "import matplotlib.pyplot as plt\n",
    "import cv2\n",
    "import os\n",
    "\n",
    "def compress_image(image):\n",
    "    compressed_data = []\n",
    "    width, height = image.size\n",
    "    \n",
    "    for col in range(width):\n",
    "        count = 1\n",
    "        compressed_column = []\n",
    "        \n",
    "        for i in range(1, height):\n",
    "            if image.getpixel((col, i)) == image.getpixel((col, i-1)):\n",
    "                count += 1\n",
    "            else:\n",
    "                compressed_column.append((count, image.getpixel((col, i-1))))\n",
    "                count = 1\n",
    "        \n",
    "        compressed_column.append((count, image.getpixel((col, height-1))))  # Add the last count and pixel value\n",
    "        compressed_data.append(compressed_column)\n",
    "    \n",
    "    return compressed_data\n",
    "\n",
    "\n",
    "\n",
    "\n",
    "# Open the image file\n",
    "image_path='q5-1.png'\n",
    "image = Image.open(\"q5-2.png\")\n",
    "output_file=\"q5-2_compressed_data.txt\"\n",
    "# Convert the image to RGB mode (if required)\n",
    "if image.mode != \"RGB\":\n",
    "    image = image.convert(\"RGB\")\n",
    "\n",
    "# Compress the image\n",
    "compressed_data = compress_image(image)\n",
    "\n",
    "# Save the compressed data to a file\n",
    "with open(output_file, \"w\") as f:\n",
    "    for col in compressed_data:\n",
    "        f.write(str(col) + \"\\n\")\n",
    "\n",
    "\n"
   ]
  },
  {
   "cell_type": "code",
   "execution_count": 5,
   "id": "e5feeab0",
   "metadata": {
    "scrolled": true
   },
   "outputs": [
    {
     "data": {
      "text/plain": [
       "True"
      ]
     },
     "execution_count": 5,
     "metadata": {},
     "output_type": "execute_result"
    }
   ],
   "source": [
    "def decompress_image(compressed_data, width, height):\n",
    "    decompressed_image = [[0] * width for _ in range(height)]\n",
    "    for col, compressed_column in enumerate(compressed_data):\n",
    "        row_index = 0\n",
    "        \n",
    "        for count, pixel in compressed_column:\n",
    "            for _ in range(count):\n",
    "                decompressed_image[col][row_index] = pixel\n",
    "                row_index += 1\n",
    "    \n",
    "    return decompressed_image\n",
    "\n",
    "\n",
    "# Decompress the image\n",
    "width = len(compressed_data)\n",
    "height = max(column[0][0] for column in compressed_data)\n",
    "decompressed_image = decompress_image(compressed_data, width, height)\n",
    "decompressed_image=(np.array(decompressed_image).T)[0]\n",
    "\n",
    "cv2.imwrite(f'{image_path}_uncompressed.png', decompressed_image)\n"
   ]
  },
  {
   "cell_type": "code",
   "execution_count": 6,
   "id": "fa5db5ee",
   "metadata": {},
   "outputs": [
    {
     "name": "stdout",
     "output_type": "stream",
     "text": [
      "Compression Rate: 15.39\n"
     ]
    }
   ],
   "source": [
    "# Get the file size in bytes\n",
    "original_size = os.path.getsize(image_path)\n",
    "compressed_size = os.path.getsize(f'{image_path}_uncompressed.png')\n",
    "\n",
    "# Calculate the compression rate\n",
    "compression_rate = compressed_size / original_size\n",
    "\n",
    "print(f\"Compression Rate: {compression_rate:.2f}\")"
   ]
  },
  {
   "cell_type": "code",
   "execution_count": null,
   "id": "1ec85ff8",
   "metadata": {},
   "outputs": [],
   "source": []
  }
 ],
 "metadata": {
  "kernelspec": {
   "display_name": "Python 3 (ipykernel)",
   "language": "python",
   "name": "python3"
  },
  "language_info": {
   "codemirror_mode": {
    "name": "ipython",
    "version": 3
   },
   "file_extension": ".py",
   "mimetype": "text/x-python",
   "name": "python",
   "nbconvert_exporter": "python",
   "pygments_lexer": "ipython3",
   "version": "3.9.16"
  }
 },
 "nbformat": 4,
 "nbformat_minor": 5
}
