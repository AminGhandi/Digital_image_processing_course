{
 "cells": [
  {
   "cell_type": "code",
   "execution_count": 7,
   "id": "3b69032a",
   "metadata": {},
   "outputs": [
    {
     "name": "stdout",
     "output_type": "stream",
     "text": [
      "Compressed data saved to q5-1_compressed_data.pkl\n"
     ]
    }
   ],
   "source": [
    "import cv2\n",
    "import numpy as np\n",
    "import pickle\n",
    "import os\n",
    "\n",
    "def compress_image(image):\n",
    "    flattened_image = image.flatten()  # Convert image to 1D array\n",
    "    compressed_data = []\n",
    "    count = 1\n",
    "    prev_pixel = flattened_image[0]\n",
    "\n",
    "    for pixel in flattened_image[1:]:\n",
    "        if pixel == prev_pixel:\n",
    "            count += 1\n",
    "        else:\n",
    "            compressed_data.append((prev_pixel, count))\n",
    "            count = 1\n",
    "            prev_pixel = pixel\n",
    "\n",
    "    # Add the last pixel and its count\n",
    "    compressed_data.append((prev_pixel, count))\n",
    "\n",
    "    return compressed_data\n",
    "\n",
    "def decompress_image(compressed_data):\n",
    "    decompressed_image = []\n",
    "\n",
    "    for pixel, count in compressed_data:\n",
    "        decompressed_image.extend([pixel] * count)\n",
    "\n",
    "    return np.array(decompressed_image)\n",
    "\n",
    "# Example usage\n",
    "image_path='q5-1.png'\n",
    "output_file = 'q5-1_compressed_data.pkl'\n",
    "\n",
    "# Load the image\n",
    "image = cv2.imread(image_path, 0)  # Load the image in grayscale\n",
    "\n",
    "# Compress the image\n",
    "compressed_data = compress_image(image)\n",
    "\n",
    "# Save the compressed data to a file\n",
    "with open(output_file, 'wb') as f:\n",
    "    pickle.dump(compressed_data, f)\n",
    "print(\"Compressed data saved to\", output_file)\n",
    "\n"
   ]
  },
  {
   "cell_type": "code",
   "execution_count": 8,
   "id": "d5e0915a",
   "metadata": {},
   "outputs": [
    {
     "data": {
      "text/plain": [
       "True"
      ]
     },
     "execution_count": 8,
     "metadata": {},
     "output_type": "execute_result"
    }
   ],
   "source": [
    "import matplotlib.pyplot as plt\n",
    "decompressed_image = decompress_image(compressed_data)\n",
    "reshaped_image = np.reshape(decompressed_image, image.shape)\n",
    "cv2.imwrite(f'{image_path}_uncompressed.png', reshaped_image)\n"
   ]
  },
  {
   "cell_type": "code",
   "execution_count": 9,
   "id": "0d7330b9",
   "metadata": {},
   "outputs": [
    {
     "name": "stdout",
     "output_type": "stream",
     "text": [
      "Compression Rate: 14.08\n"
     ]
    }
   ],
   "source": [
    "# Get the file size in bytes\n",
    "original_size = os.path.getsize(image_path)\n",
    "compressed_size = os.path.getsize(f'{image_path}_uncompressed.png')\n",
    "\n",
    "# Calculate the compression rate\n",
    "compression_rate = compressed_size / original_size\n",
    "\n",
    "print(f\"Compression Rate: {compression_rate:.2f}\")"
   ]
  },
  {
   "cell_type": "code",
   "execution_count": null,
   "id": "4bf0bbe0",
   "metadata": {},
   "outputs": [],
   "source": []
  }
 ],
 "metadata": {
  "kernelspec": {
   "display_name": "Python 3 (ipykernel)",
   "language": "python",
   "name": "python3"
  },
  "language_info": {
   "codemirror_mode": {
    "name": "ipython",
    "version": 3
   },
   "file_extension": ".py",
   "mimetype": "text/x-python",
   "name": "python",
   "nbconvert_exporter": "python",
   "pygments_lexer": "ipython3",
   "version": "3.9.16"
  }
 },
 "nbformat": 4,
 "nbformat_minor": 5
}
