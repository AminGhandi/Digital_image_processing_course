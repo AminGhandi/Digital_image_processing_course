{
 "cells": [
  {
   "cell_type": "code",
   "execution_count": 1,
   "id": "8c92c3b9",
   "metadata": {},
   "outputs": [
    {
     "name": "stdout",
     "output_type": "stream",
     "text": [
      "Files already downloaded and verified\n",
      "Files already downloaded and verified\n"
     ]
    }
   ],
   "source": [
    "import numpy as np\n",
    "from sklearn.ensemble import RandomForestClassifier\n",
    "from sklearn.metrics import accuracy_score\n",
    "from torchvision import datasets, transforms\n",
    "\n",
    "# Load the CIFAR-10 dataset\n",
    "transform = transforms.Compose([transforms.ToTensor(), transforms.Normalize((0.5, 0.5, 0.5), (0.5, 0.5, 0.5))])\n",
    "train_dataset = datasets.CIFAR10(root='./data', train=True, download=True, transform=transform)\n",
    "test_dataset = datasets.CIFAR10(root='./data', train=False, download=True, transform=transform)\n",
    "\n",
    "\n"
   ]
  },
  {
   "cell_type": "code",
   "execution_count": 3,
   "id": "7acdcea0",
   "metadata": {},
   "outputs": [],
   "source": [
    "# Subset the training data\n",
    "import torch\n",
    "\n",
    "subset_size = 10000  # Specify the size of the subset\n",
    "indices = np.random.choice(len(train_dataset), subset_size, replace=False)\n",
    "subset_train_dataset = torch.utils.data.Subset(train_dataset, indices)\n",
    "\n",
    "# Reshape and flatten the input data\n",
    "X_train = np.array([np.array(x).flatten() for x, _ in subset_train_dataset])\n",
    "y_train = np.array([y for _, y in subset_train_dataset])\n",
    "X_test = test_dataset.data.reshape(test_dataset.data.shape[0], -1)\n",
    "y_test = np.array(test_dataset.targets)\n"
   ]
  },
  {
   "cell_type": "code",
   "execution_count": 6,
   "id": "d570ceac",
   "metadata": {},
   "outputs": [
    {
     "name": "stdout",
     "output_type": "stream",
     "text": [
      "Accuracy: 9.99%\n"
     ]
    }
   ],
   "source": [
    "# Train the random forest classifier\n",
    "rf_classifier = RandomForestClassifier(n_estimators=100, random_state=42)\n",
    "rf_classifier.fit(X_train, y_train)\n",
    "\n",
    "# Predict on the test set\n",
    "y_pred = rf_classifier.predict(X_test)\n",
    "\n",
    "# Calculate accuracy\n",
    "accuracy = accuracy_score(y_test, y_pred)\n",
    "print(\"Accuracy: {:.2f}%\".format(accuracy * 100))"
   ]
  },
  {
   "cell_type": "code",
   "execution_count": null,
   "id": "222affcd",
   "metadata": {},
   "outputs": [],
   "source": []
  }
 ],
 "metadata": {
  "kernelspec": {
   "display_name": "Python 3 (ipykernel)",
   "language": "python",
   "name": "python3"
  },
  "language_info": {
   "codemirror_mode": {
    "name": "ipython",
    "version": 3
   },
   "file_extension": ".py",
   "mimetype": "text/x-python",
   "name": "python",
   "nbconvert_exporter": "python",
   "pygments_lexer": "ipython3",
   "version": "3.9.16"
  }
 },
 "nbformat": 4,
 "nbformat_minor": 5
}
