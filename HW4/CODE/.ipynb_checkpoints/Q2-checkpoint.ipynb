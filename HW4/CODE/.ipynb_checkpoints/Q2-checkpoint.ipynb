{
 "cells": [
  {
   "cell_type": "code",
   "execution_count": 18,
   "id": "f8bda0dd",
   "metadata": {},
   "outputs": [
    {
     "name": "stdout",
     "output_type": "stream",
     "text": [
      "Pratt Figure of Merit for Sobel (a=1.0): 0.00010088249726655042\n",
      "Pratt Figure of Merit for Canny (a=1.0): 0.0008666564538587402\n",
      "Pratt Figure of Merit for Sobel (a=10.0): 0.003067997415286651\n",
      "Pratt Figure of Merit for Canny (a=10.0): 0.0319397400111683\n",
      "Pratt Figure of Merit for Sobel (a=100.0): 0.19406390170130872\n",
      "Pratt Figure of Merit for Canny (a=100.0): 0.302810249621156\n"
     ]
    }
   ],
   "source": [
    "import cv2\n",
    "import numpy as np\n",
    "\n",
    "def compute_pratt_figure_of_merit(detected_edges, ideal_edges, a):\n",
    "    di = np.abs(ideal_edges - detected_edges)\n",
    "    fm = 1 / max(np.sum(ideal_edges), np.sum(detected_edges)) * np.sum(ideal_edges / (1 + (di / a) ** 2))\n",
    "    return fm\n",
    "\n",
    "# Load the image\n",
    "image = cv2.imread('images/baboon.png', 0)  # Read the image as grayscale\n",
    "\n",
    "# Apply Sobel edge detection\n",
    "sobel_edges = cv2.Sobel(image, cv2.CV_64F, 1, 1, ksize=3)  # Sobel operator applied to X and Y axes\n",
    "sobel_edges = np.abs(sobel_edges)  # Take the absolute values\n",
    "\n",
    "# Apply Canny edge detection\n",
    "canny_edges = cv2.Canny(image, threshold1=100, threshold2=200)\n",
    "\n",
    "# Range of 'a' values to test\n",
    "a_values = [1.0, 10.0, 100.0]\n",
    "\n",
    "for a in a_values:\n",
    "    # Compute Pratt Figure of Merit for Sobel using Canny edges as ground truth\n",
    "    fm_sobel = compute_pratt_figure_of_merit(sobel_edges, canny_edges, a)\n",
    "    print(\"Pratt Figure of Merit for Sobel (a={}): {}\".format(a, fm_sobel))\n",
    "\n",
    "    # Compute Pratt Figure of Merit for Canny using Sobel edges as ground truth\n",
    "    fm_canny = compute_pratt_figure_of_merit(canny_edges, sobel_edges, a)\n",
    "    print(\"Pratt Figure of Merit for Canny (a={}): {}\".format(a, fm_canny))\n",
    "\n"
   ]
  },
  {
   "cell_type": "markdown",
   "id": "b33f4bb5",
   "metadata": {},
   "source": [
    "The conclusions drawn from comparing the Pratt Figure of Merit (PFOM) values for Canny and Sobel edge detection algorithms with different 'a' values will depend on the specific dataset, the desired edge detection characteristics, and the particular application.\n",
    "\n",
    "Here are some observations that can be made based on the PFOM results:\n",
    "\n",
    "Sensitivity to 'a': The PFOM values for both Canny and Sobel algorithms may vary significantly with different 'a' values. Higher values of 'a' tend to penalize displaced edges more, resulting in lower PFOM values. Lower values of 'a' provide more tolerance to edge displacements, potentially leading to higher PFOM values.\n",
    "\n",
    "Comparing Canny and Sobel: By comparing the PFOM values between Canny and Sobel algorithms for different 'a' values, you can assess their relative performance. A higher PFOM value indicates better agreement between the detected edges and the ground truth edges. Therefore, for a given 'a' value, if the PFOM of one algorithm is consistently higher than the other, it suggests that the former performs better in terms of edge detection accuracy.\n",
    "\n",
    "Optimal 'a' selection: You can analyze the trend of PFOM values with different 'a' values to identify an optimal range for 'a' that yields the best performance for your specific dataset and application. This analysis can help determine the level of tolerance for edge deviations and guide the selection of a suitable 'a' value.\n",
    "\n",
    "Fine-tuning parameters: Since the PFOM metric provides a quantitative measure of edge detection quality, you can use it to fine-tune other parameters of the edge detection algorithms, such as threshold values or kernel sizes, to optimize the overall performance.\n",
    "\n",
    "It's important to note that the conclusions drawn from PFOM values should be interpreted in conjunction with visual inspection and evaluation of the actual edge detection results. The PFOM metric provides a quantitative assessment, but it may not capture all aspects of edge detection quality or specific requirements of your application. Therefore, it's recommended to consider both PFOM values and visual analysis when comparing edge detection algorithms."
   ]
  }
 ],
 "metadata": {
  "kernelspec": {
   "display_name": "Python 3 (ipykernel)",
   "language": "python",
   "name": "python3"
  },
  "language_info": {
   "codemirror_mode": {
    "name": "ipython",
    "version": 3
   },
   "file_extension": ".py",
   "mimetype": "text/x-python",
   "name": "python",
   "nbconvert_exporter": "python",
   "pygments_lexer": "ipython3",
   "version": "3.9.16"
  }
 },
 "nbformat": 4,
 "nbformat_minor": 5
}
